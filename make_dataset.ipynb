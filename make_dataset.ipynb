{
 "cells": [
  {
   "cell_type": "code",
   "execution_count": 2,
   "id": "f1b474bf",
   "metadata": {},
   "outputs": [],
   "source": [
    "import os\n",
    "import cv2\n",
    "import json\n",
    "import xml.etree.ElementTree as ET\n",
    "import mediapipe as mp\n",
    "from tqdm import tqdm\n"
   ]
  },
  {
   "cell_type": "code",
   "execution_count": 3,
   "id": "feefa053",
   "metadata": {},
   "outputs": [],
   "source": [
    "# Paths\n",
    "DATA_DIR = \"workspace/images\"\n",
    "OUTPUT_FILE = \"hand_landmarks.json\""
   ]
  },
  {
   "cell_type": "code",
   "execution_count": 4,
   "id": "38c74e65",
   "metadata": {},
   "outputs": [],
   "source": [
    "# Init MediaPipe\n",
    "mp_hands = mp.solutions.hands\n",
    "hands = mp_hands.Hands(static_image_mode=True, max_num_hands=2, min_detection_confidence=0.5)\n"
   ]
  },
  {
   "cell_type": "code",
   "execution_count": null,
   "id": "e765778c",
   "metadata": {},
   "outputs": [
    {
     "name": "stderr",
     "output_type": "stream",
     "text": [
      " 10%|█         | 5240/50932 [02:19<20:19, 37.46it/s]\n"
     ]
    },
    {
     "ename": "KeyboardInterrupt",
     "evalue": "",
     "output_type": "error",
     "traceback": [
      "\u001b[1;31m---------------------------------------------------------------------------\u001b[0m",
      "\u001b[1;31mKeyboardInterrupt\u001b[0m                         Traceback (most recent call last)",
      "Cell \u001b[1;32mIn[5], line 15\u001b[0m\n\u001b[0;32m     12\u001b[0m xml_path \u001b[38;5;241m=\u001b[39m os\u001b[38;5;241m.\u001b[39mpath\u001b[38;5;241m.\u001b[39mjoin(split_dir, file\u001b[38;5;241m.\u001b[39mreplace(\u001b[38;5;124m\"\u001b[39m\u001b[38;5;124m.jpg\u001b[39m\u001b[38;5;124m\"\u001b[39m, \u001b[38;5;124m\"\u001b[39m\u001b[38;5;124m.xml\u001b[39m\u001b[38;5;124m\"\u001b[39m))\n\u001b[0;32m     14\u001b[0m \u001b[38;5;66;03m# Load image\u001b[39;00m\n\u001b[1;32m---> 15\u001b[0m image \u001b[38;5;241m=\u001b[39m \u001b[43mcv2\u001b[49m\u001b[38;5;241;43m.\u001b[39;49m\u001b[43mimread\u001b[49m\u001b[43m(\u001b[49m\u001b[43mimg_path\u001b[49m\u001b[43m)\u001b[49m\n\u001b[0;32m     16\u001b[0m \u001b[38;5;28;01mif\u001b[39;00m image \u001b[38;5;129;01mis\u001b[39;00m \u001b[38;5;28;01mNone\u001b[39;00m \u001b[38;5;129;01mor\u001b[39;00m \u001b[38;5;129;01mnot\u001b[39;00m os\u001b[38;5;241m.\u001b[39mpath\u001b[38;5;241m.\u001b[39mexists(xml_path):\n\u001b[0;32m     17\u001b[0m     \u001b[38;5;28;01mcontinue\u001b[39;00m\n",
      "\u001b[1;31mKeyboardInterrupt\u001b[0m: "
     ]
    }
   ],
   "source": [
    "# Store results\n",
    "results_data = []\n",
    "\n",
    "# Loop over train, test, val\n",
    "for split in [\"train\", \"test\", \"val\"]:\n",
    "    split_dir = os.path.join(DATA_DIR, split)\n",
    "    for file in tqdm(os.listdir(split_dir)):\n",
    "        if not file.endswith(\".jpg\"):\n",
    "            continue\n",
    "\n",
    "        img_path = os.path.join(split_dir, file)\n",
    "        xml_path = os.path.join(split_dir, file.replace(\".jpg\", \".xml\"))\n",
    "\n",
    "        # Load image\n",
    "        image = cv2.imread(img_path)\n",
    "        if image is None or not os.path.exists(xml_path):\n",
    "            continue\n",
    "\n",
    "        # Parse XML\n",
    "        tree = ET.parse(xml_path)\n",
    "        root = tree.getroot()\n",
    "        bbox = root.find(\"object\").find(\"bndbox\")\n",
    "        xmin = int(bbox.find(\"xmin\").text)\n",
    "        ymin = int(bbox.find(\"ymin\").text)\n",
    "        xmax = int(bbox.find(\"xmax\").text)\n",
    "        ymax = int(bbox.find(\"ymax\").text)\n",
    "\n",
    "        label = root.find(\"object\").find(\"name\").text\n",
    "\n",
    "        # Crop to bounding box\n",
    "        cropped = image[ymin:ymax, xmin:xmax]\n",
    "        if cropped.size == 0:\n",
    "            continue\n",
    "\n",
    "        # Convert to RGB\n",
    "        cropped_rgb = cv2.cvtColor(cropped, cv2.COLOR_BGR2RGB)\n",
    "\n",
    "        # Run MediaPipe\n",
    "        result = hands.process(cropped_rgb)\n",
    "        if result.multi_hand_landmarks:\n",
    "            for hand_landmarks in result.multi_hand_landmarks:\n",
    "                landmark_list = []\n",
    "                for lm in hand_landmarks.landmark:\n",
    "                    landmark_list.append({\n",
    "                        \"x\": lm.x,\n",
    "                        \"y\": lm.y,\n",
    "                        \"z\": lm.z\n",
    "                    })\n",
    "                results_data.append({\n",
    "                    \"image\": file,\n",
    "                    \"split\": split,\n",
    "                    \"label\": label,\n",
    "                    \"bbox\": [xmin, ymin, xmax, ymax],\n",
    "                    for lm in hand_landmarks.landmark:\n",
    "    cx = int(lm.x * (xmax - xmin)) + xmin\n",
    "    cy = int(lm.y * (ymax - ymin)) + ymin\n",
    "    landmark_list.append({\"x\": cx, \"y\": cy, \"z\": lm.z})\n",
    "                })\n",
    "\n",
    "# Save as JSON\n",
    "with open(OUTPUT_FILE, \"w\") as f:\n",
    "    json.dump(results_data, f, indent=2)\n",
    "\n",
    "print(f\"Done! Saved landmark data to {OUTPUT_FILE}\")"
   ]
  },
  {
   "cell_type": "code",
   "execution_count": null,
   "id": "28c4bd4c",
   "metadata": {},
   "outputs": [],
   "source": []
  }
 ],
 "metadata": {
  "kernelspec": {
   "display_name": "Python 3",
   "language": "python",
   "name": "python3"
  },
  "language_info": {
   "codemirror_mode": {
    "name": "ipython",
    "version": 3
   },
   "file_extension": ".py",
   "mimetype": "text/x-python",
   "name": "python",
   "nbconvert_exporter": "python",
   "pygments_lexer": "ipython3",
   "version": "3.9.21"
  }
 },
 "nbformat": 4,
 "nbformat_minor": 5
}
